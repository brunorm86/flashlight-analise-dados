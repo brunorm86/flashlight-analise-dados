{
 "cells": [
  {
   "metadata": {},
   "cell_type": "markdown",
   "source": [
    "# Northwind Traders - Data Analysis Challenge\n",
    "\n",
    "### This notebook analyzes the Northwind database to identify key performance indicators and generate insights to help increase average ticket size and reduce customer churn.\n",
    "\n"
   ],
   "id": "504531d81497752"
  },
  {
   "metadata": {},
   "cell_type": "markdown",
   "source": "## 1. Setup and Data Loading",
   "id": "81ce7e44d04dba8d"
  },
  {
   "metadata": {
    "ExecuteTime": {
     "end_time": "2025-04-06T02:39:13.949182Z",
     "start_time": "2025-04-06T02:39:13.945061Z"
    }
   },
   "cell_type": "code",
   "source": [
    "# Import necessary libraries\n",
    "import pandas as pd\n",
    "import numpy as np\n",
    "import matplotlib.pyplot as plt\n",
    "import seaborn as sns\n",
    "from datetime import datetime, timedelta\n",
    "import warnings"
   ],
   "id": "34661f2b499d79aa",
   "outputs": [],
   "execution_count": 1
  },
  {
   "metadata": {
    "ExecuteTime": {
     "end_time": "2025-04-06T02:39:13.962309Z",
     "start_time": "2025-04-06T02:39:13.953504Z"
    }
   },
   "cell_type": "code",
   "source": [
    "# Set display options\n",
    "pd.set_option('display.max_columns', None)\n",
    "pd.set_option('display.max_rows', 100)\n",
    "warnings.filterwarnings('ignore')\n",
    "\n",
    "# Set visualization style\n",
    "plt.style.use('ggplot')\n",
    "sns.set(style=\"whitegrid\")"
   ],
   "id": "37a90de5136538e5",
   "outputs": [],
   "execution_count": 2
  },
  {
   "metadata": {
    "ExecuteTime": {
     "end_time": "2025-04-06T02:39:14.591989Z",
     "start_time": "2025-04-06T02:39:14.151113Z"
    }
   },
   "cell_type": "code",
   "source": [
    "# Define file paths\n",
    "base_path = \"./northwind/\"\n",
    "\n",
    "# Load all CSV files\n",
    "categories = pd.read_csv(f'{base_path}categories.csv')\n",
    "customers = pd.read_csv(f'{base_path}customers.csv')\n",
    "customer_demographics = pd.read_csv(f'{base_path}customer_demographics.csv')\n",
    "customer_customer_demo = pd.read_csv(f'{base_path}customer_customer_demo.csv')\n",
    "employees = pd.read_csv(f'{base_path}employees.csv')\n",
    "employee_territories = pd.read_csv(f'{base_path}employee_territories.csv')\n",
    "orders = pd.read_csv(f'{base_path}orders.csv')\n",
    "order_details = pd.read_csv(f'{base_path}order_details.csv')\n",
    "products = pd.read_csv(f'{base_path}products.csv')\n",
    "region = pd.read_csv(f'{base_path}region.csv')\n",
    "shippers = pd.read_csv(f'{base_path}shippers.csv')\n",
    "suppliers = pd.read_csv(f'{base_path}suppliers.csv')\n",
    "territories = pd.read_csv(f'{base_path}territories.csv')\n",
    "us_states = pd.read_csv(f'{base_path}us_states.csv')"
   ],
   "id": "b6a6259d96b6bb26",
   "outputs": [
    {
     "ename": "ParserError",
     "evalue": "Error tokenizing data. C error: Expected 1 fields in line 8, saw 2\n",
     "output_type": "error",
     "traceback": [
      "\u001B[31m---------------------------------------------------------------------------\u001B[39m",
      "\u001B[31mParserError\u001B[39m                               Traceback (most recent call last)",
      "\u001B[36mCell\u001B[39m\u001B[36m \u001B[39m\u001B[32mIn[3]\u001B[39m\u001B[32m, line 6\u001B[39m\n\u001B[32m      4\u001B[39m \u001B[38;5;66;03m# Load all CSV files\u001B[39;00m\n\u001B[32m      5\u001B[39m categories = pd.read_csv(\u001B[33mf\u001B[39m\u001B[33m'\u001B[39m\u001B[38;5;132;01m{\u001B[39;00mbase_path\u001B[38;5;132;01m}\u001B[39;00m\u001B[33mcategories.csv\u001B[39m\u001B[33m'\u001B[39m)\n\u001B[32m----> \u001B[39m\u001B[32m6\u001B[39m customers = \u001B[43mpd\u001B[49m\u001B[43m.\u001B[49m\u001B[43mread_csv\u001B[49m\u001B[43m(\u001B[49m\u001B[33;43mf\u001B[39;49m\u001B[33;43m'\u001B[39;49m\u001B[38;5;132;43;01m{\u001B[39;49;00m\u001B[43mbase_path\u001B[49m\u001B[38;5;132;43;01m}\u001B[39;49;00m\u001B[33;43mcustomers.csv\u001B[39;49m\u001B[33;43m'\u001B[39;49m\u001B[43m)\u001B[49m\n\u001B[32m      7\u001B[39m customer_demographics = pd.read_csv(\u001B[33mf\u001B[39m\u001B[33m'\u001B[39m\u001B[38;5;132;01m{\u001B[39;00mbase_path\u001B[38;5;132;01m}\u001B[39;00m\u001B[33mcustomer_demographics.csv\u001B[39m\u001B[33m'\u001B[39m)\n\u001B[32m      8\u001B[39m customer_customer_demo = pd.read_csv(\u001B[33mf\u001B[39m\u001B[33m'\u001B[39m\u001B[38;5;132;01m{\u001B[39;00mbase_path\u001B[38;5;132;01m}\u001B[39;00m\u001B[33mcustomer_customer_demo.csv\u001B[39m\u001B[33m'\u001B[39m)\n",
      "\u001B[36mFile \u001B[39m\u001B[32m~\\Desktop\\flashlight-analise-dados\\.venv\\Lib\\site-packages\\pandas\\io\\parsers\\readers.py:1026\u001B[39m, in \u001B[36mread_csv\u001B[39m\u001B[34m(filepath_or_buffer, sep, delimiter, header, names, index_col, usecols, dtype, engine, converters, true_values, false_values, skipinitialspace, skiprows, skipfooter, nrows, na_values, keep_default_na, na_filter, verbose, skip_blank_lines, parse_dates, infer_datetime_format, keep_date_col, date_parser, date_format, dayfirst, cache_dates, iterator, chunksize, compression, thousands, decimal, lineterminator, quotechar, quoting, doublequote, escapechar, comment, encoding, encoding_errors, dialect, on_bad_lines, delim_whitespace, low_memory, memory_map, float_precision, storage_options, dtype_backend)\u001B[39m\n\u001B[32m   1013\u001B[39m kwds_defaults = _refine_defaults_read(\n\u001B[32m   1014\u001B[39m     dialect,\n\u001B[32m   1015\u001B[39m     delimiter,\n\u001B[32m   (...)\u001B[39m\u001B[32m   1022\u001B[39m     dtype_backend=dtype_backend,\n\u001B[32m   1023\u001B[39m )\n\u001B[32m   1024\u001B[39m kwds.update(kwds_defaults)\n\u001B[32m-> \u001B[39m\u001B[32m1026\u001B[39m \u001B[38;5;28;01mreturn\u001B[39;00m \u001B[43m_read\u001B[49m\u001B[43m(\u001B[49m\u001B[43mfilepath_or_buffer\u001B[49m\u001B[43m,\u001B[49m\u001B[43m \u001B[49m\u001B[43mkwds\u001B[49m\u001B[43m)\u001B[49m\n",
      "\u001B[36mFile \u001B[39m\u001B[32m~\\Desktop\\flashlight-analise-dados\\.venv\\Lib\\site-packages\\pandas\\io\\parsers\\readers.py:626\u001B[39m, in \u001B[36m_read\u001B[39m\u001B[34m(filepath_or_buffer, kwds)\u001B[39m\n\u001B[32m    623\u001B[39m     \u001B[38;5;28;01mreturn\u001B[39;00m parser\n\u001B[32m    625\u001B[39m \u001B[38;5;28;01mwith\u001B[39;00m parser:\n\u001B[32m--> \u001B[39m\u001B[32m626\u001B[39m     \u001B[38;5;28;01mreturn\u001B[39;00m \u001B[43mparser\u001B[49m\u001B[43m.\u001B[49m\u001B[43mread\u001B[49m\u001B[43m(\u001B[49m\u001B[43mnrows\u001B[49m\u001B[43m)\u001B[49m\n",
      "\u001B[36mFile \u001B[39m\u001B[32m~\\Desktop\\flashlight-analise-dados\\.venv\\Lib\\site-packages\\pandas\\io\\parsers\\readers.py:1923\u001B[39m, in \u001B[36mTextFileReader.read\u001B[39m\u001B[34m(self, nrows)\u001B[39m\n\u001B[32m   1916\u001B[39m nrows = validate_integer(\u001B[33m\"\u001B[39m\u001B[33mnrows\u001B[39m\u001B[33m\"\u001B[39m, nrows)\n\u001B[32m   1917\u001B[39m \u001B[38;5;28;01mtry\u001B[39;00m:\n\u001B[32m   1918\u001B[39m     \u001B[38;5;66;03m# error: \"ParserBase\" has no attribute \"read\"\u001B[39;00m\n\u001B[32m   1919\u001B[39m     (\n\u001B[32m   1920\u001B[39m         index,\n\u001B[32m   1921\u001B[39m         columns,\n\u001B[32m   1922\u001B[39m         col_dict,\n\u001B[32m-> \u001B[39m\u001B[32m1923\u001B[39m     ) = \u001B[38;5;28;43mself\u001B[39;49m\u001B[43m.\u001B[49m\u001B[43m_engine\u001B[49m\u001B[43m.\u001B[49m\u001B[43mread\u001B[49m\u001B[43m(\u001B[49m\u001B[43m  \u001B[49m\u001B[38;5;66;43;03m# type: ignore[attr-defined]\u001B[39;49;00m\n\u001B[32m   1924\u001B[39m \u001B[43m        \u001B[49m\u001B[43mnrows\u001B[49m\n\u001B[32m   1925\u001B[39m \u001B[43m    \u001B[49m\u001B[43m)\u001B[49m\n\u001B[32m   1926\u001B[39m \u001B[38;5;28;01mexcept\u001B[39;00m \u001B[38;5;167;01mException\u001B[39;00m:\n\u001B[32m   1927\u001B[39m     \u001B[38;5;28mself\u001B[39m.close()\n",
      "\u001B[36mFile \u001B[39m\u001B[32m~\\Desktop\\flashlight-analise-dados\\.venv\\Lib\\site-packages\\pandas\\io\\parsers\\c_parser_wrapper.py:234\u001B[39m, in \u001B[36mCParserWrapper.read\u001B[39m\u001B[34m(self, nrows)\u001B[39m\n\u001B[32m    232\u001B[39m \u001B[38;5;28;01mtry\u001B[39;00m:\n\u001B[32m    233\u001B[39m     \u001B[38;5;28;01mif\u001B[39;00m \u001B[38;5;28mself\u001B[39m.low_memory:\n\u001B[32m--> \u001B[39m\u001B[32m234\u001B[39m         chunks = \u001B[38;5;28;43mself\u001B[39;49m\u001B[43m.\u001B[49m\u001B[43m_reader\u001B[49m\u001B[43m.\u001B[49m\u001B[43mread_low_memory\u001B[49m\u001B[43m(\u001B[49m\u001B[43mnrows\u001B[49m\u001B[43m)\u001B[49m\n\u001B[32m    235\u001B[39m         \u001B[38;5;66;03m# destructive to chunks\u001B[39;00m\n\u001B[32m    236\u001B[39m         data = _concatenate_chunks(chunks)\n",
      "\u001B[36mFile \u001B[39m\u001B[32mparsers.pyx:838\u001B[39m, in \u001B[36mpandas._libs.parsers.TextReader.read_low_memory\u001B[39m\u001B[34m()\u001B[39m\n",
      "\u001B[36mFile \u001B[39m\u001B[32mparsers.pyx:905\u001B[39m, in \u001B[36mpandas._libs.parsers.TextReader._read_rows\u001B[39m\u001B[34m()\u001B[39m\n",
      "\u001B[36mFile \u001B[39m\u001B[32mparsers.pyx:874\u001B[39m, in \u001B[36mpandas._libs.parsers.TextReader._tokenize_rows\u001B[39m\u001B[34m()\u001B[39m\n",
      "\u001B[36mFile \u001B[39m\u001B[32mparsers.pyx:891\u001B[39m, in \u001B[36mpandas._libs.parsers.TextReader._check_tokenize_status\u001B[39m\u001B[34m()\u001B[39m\n",
      "\u001B[36mFile \u001B[39m\u001B[32mparsers.pyx:2061\u001B[39m, in \u001B[36mpandas._libs.parsers.raise_parser_error\u001B[39m\u001B[34m()\u001B[39m\n",
      "\u001B[31mParserError\u001B[39m: Error tokenizing data. C error: Expected 1 fields in line 8, saw 2\n"
     ]
    }
   ],
   "execution_count": 3
  },
  {
   "metadata": {
    "ExecuteTime": {
     "end_time": "2025-04-06T02:40:41.147272Z",
     "start_time": "2025-04-06T02:40:41.127037Z"
    }
   },
   "cell_type": "code",
   "source": [
    "# Quick look at what we're working with\n",
    "print(\"Datasets overview:\")\n",
    "for name, df in [\n",
    "    (\"categories\", categories),\n",
    "    (\"customers\", customers),\n",
    "    (\"customer_demographics\", customer_demographics),\n",
    "    (\"customer_customer_demo\", customer_customer_demo),\n",
    "    (\"employees\", employees),\n",
    "    (\"employee_territories\", employee_territories),\n",
    "    (\"orders\", orders),\n",
    "    (\"order_details\", order_details),\n",
    "    (\"products\", products),\n",
    "    (\"region\", region),\n",
    "    (\"shippers\", shippers),\n",
    "    (\"suppliers\", suppliers),\n",
    "    (\"territories\", territories),\n",
    "    (\"us_states\", us_states)\n",
    "]:\n",
    "    print(f\"\\n{name}: {df.shape[0]} rows, {df.shape[1]} columns\")\n",
    "    print(df.columns.tolist())"
   ],
   "id": "e982cd2657501b1f",
   "outputs": [
    {
     "name": "stdout",
     "output_type": "stream",
     "text": [
      "Datasets overview:\n"
     ]
    },
    {
     "ename": "NameError",
     "evalue": "name 'customer_demographics' is not defined",
     "output_type": "error",
     "traceback": [
      "\u001B[31m---------------------------------------------------------------------------\u001B[39m",
      "\u001B[31mNameError\u001B[39m                                 Traceback (most recent call last)",
      "\u001B[36mCell\u001B[39m\u001B[36m \u001B[39m\u001B[32mIn[5]\u001B[39m\u001B[32m, line 6\u001B[39m\n\u001B[32m      1\u001B[39m \u001B[38;5;66;03m# Quick look at what we're working with\u001B[39;00m\n\u001B[32m      2\u001B[39m \u001B[38;5;28mprint\u001B[39m(\u001B[33m\"\u001B[39m\u001B[33mDatasets overview:\u001B[39m\u001B[33m\"\u001B[39m)\n\u001B[32m      3\u001B[39m \u001B[38;5;28;01mfor\u001B[39;00m name, df \u001B[38;5;129;01min\u001B[39;00m [\n\u001B[32m      4\u001B[39m     (\u001B[33m\"\u001B[39m\u001B[33mcategories\u001B[39m\u001B[33m\"\u001B[39m, categories),\n\u001B[32m      5\u001B[39m     \u001B[38;5;66;03m#(\"customers\", customers),\u001B[39;00m\n\u001B[32m----> \u001B[39m\u001B[32m6\u001B[39m     (\u001B[33m\"\u001B[39m\u001B[33mcustomer_demographics\u001B[39m\u001B[33m\"\u001B[39m, \u001B[43mcustomer_demographics\u001B[49m),\n\u001B[32m      7\u001B[39m     (\u001B[33m\"\u001B[39m\u001B[33mcustomer_customer_demo\u001B[39m\u001B[33m\"\u001B[39m, customer_customer_demo),\n\u001B[32m      8\u001B[39m     (\u001B[33m\"\u001B[39m\u001B[33memployees\u001B[39m\u001B[33m\"\u001B[39m, employees),\n\u001B[32m      9\u001B[39m     (\u001B[33m\"\u001B[39m\u001B[33memployee_territories\u001B[39m\u001B[33m\"\u001B[39m, employee_territories),\n\u001B[32m     10\u001B[39m     (\u001B[33m\"\u001B[39m\u001B[33morders\u001B[39m\u001B[33m\"\u001B[39m, orders),\n\u001B[32m     11\u001B[39m     (\u001B[33m\"\u001B[39m\u001B[33morder_details\u001B[39m\u001B[33m\"\u001B[39m, order_details),\n\u001B[32m     12\u001B[39m     (\u001B[33m\"\u001B[39m\u001B[33mproducts\u001B[39m\u001B[33m\"\u001B[39m, products),\n\u001B[32m     13\u001B[39m     (\u001B[33m\"\u001B[39m\u001B[33mregion\u001B[39m\u001B[33m\"\u001B[39m, region),\n\u001B[32m     14\u001B[39m     (\u001B[33m\"\u001B[39m\u001B[33mshippers\u001B[39m\u001B[33m\"\u001B[39m, shippers),\n\u001B[32m     15\u001B[39m     (\u001B[33m\"\u001B[39m\u001B[33msuppliers\u001B[39m\u001B[33m\"\u001B[39m, suppliers),\n\u001B[32m     16\u001B[39m     (\u001B[33m\"\u001B[39m\u001B[33mterritories\u001B[39m\u001B[33m\"\u001B[39m, territories),\n\u001B[32m     17\u001B[39m     (\u001B[33m\"\u001B[39m\u001B[33mus_states\u001B[39m\u001B[33m\"\u001B[39m, us_states)\n\u001B[32m     18\u001B[39m ]:\n\u001B[32m     19\u001B[39m     \u001B[38;5;28mprint\u001B[39m(\u001B[33mf\u001B[39m\u001B[33m\"\u001B[39m\u001B[38;5;130;01m\\n\u001B[39;00m\u001B[38;5;132;01m{\u001B[39;00mname\u001B[38;5;132;01m}\u001B[39;00m\u001B[33m: \u001B[39m\u001B[38;5;132;01m{\u001B[39;00mdf.shape[\u001B[32m0\u001B[39m]\u001B[38;5;132;01m}\u001B[39;00m\u001B[33m rows, \u001B[39m\u001B[38;5;132;01m{\u001B[39;00mdf.shape[\u001B[32m1\u001B[39m]\u001B[38;5;132;01m}\u001B[39;00m\u001B[33m columns\u001B[39m\u001B[33m\"\u001B[39m)\n\u001B[32m     20\u001B[39m     \u001B[38;5;28mprint\u001B[39m(df.columns.tolist())\n",
      "\u001B[31mNameError\u001B[39m: name 'customer_demographics' is not defined"
     ]
    }
   ],
   "execution_count": 5
  },
  {
   "metadata": {},
   "cell_type": "markdown",
   "source": "### 2. Data Cleaning and Preparation",
   "id": "22fb2401d2e1e1df"
  },
  {
   "metadata": {},
   "cell_type": "code",
   "outputs": [],
   "execution_count": null,
   "source": [
    "# Convert date columns to datetime in orders\n",
    "orders['order_date'] = pd.to_datetime(orders['order_date'], errors='coerce')\n",
    "orders['required_date'] = pd.to_datetime(orders['required_date'], errors='coerce')\n",
    "orders['shipped_date'] = pd.to_datetime(orders['shipped_date'], errors='coerce')\n",
    "\n",
    "# Check for missing values\n",
    "print(\"\\nMissing values in orders:\")\n",
    "print(orders.isnull().sum())\n",
    "\n",
    "# Fill missing shipped_date with appropriate values or mark as not shipped\n",
    "orders['is_shipped'] = ~orders['shipped_date'].isna()\n",
    "\n",
    "# Calculate order_value in order_details\n",
    "order_details['order_value'] = order_details['unit_price'] * order_details['quantity'] * (1 - order_details['discount'])\n",
    "\n",
    "# Merge orders and order_details for analysis\n",
    "orders_with_details = pd.merge(\n",
    "    orders,\n",
    "    order_details.groupby('order_id').agg(\n",
    "        total_amount=('order_value', 'sum'),\n",
    "        unique_products=('product_id', 'nunique'),\n",
    "        total_quantity=('quantity', 'sum')\n",
    "    ).reset_index(),\n",
    "    on='order_id',\n",
    "    how='left'\n",
    ")"
   ],
   "id": "e6d7278753c3db04"
  },
  {
   "metadata": {},
   "cell_type": "code",
   "outputs": [],
   "execution_count": null,
   "source": [
    "# Merge with customers\n",
    "orders_with_customers = pd.merge(\n",
    "    orders_with_details,\n",
    "    customers[['customer_id', 'company_name', 'country', 'region', 'city']],\n",
    "    on='customer_id',\n",
    "    how='left'\n",
    ")"
   ],
   "id": "ba585282e14d6889"
  },
  {
   "metadata": {},
   "cell_type": "markdown",
   "source": [
    "### 3. Analysis Part 1: Revenue and Sales Performance\n",
    "\n",
    "#### 3.1 Revenue Analysis"
   ],
   "id": "6acf93c2365ad7b4"
  },
  {
   "metadata": {},
   "cell_type": "code",
   "outputs": [],
   "execution_count": null,
   "source": [
    "# Calculate monthly revenue\n",
    "monthly_revenue = orders_with_customers.copy()\n",
    "monthly_revenue['year_month'] = monthly_revenue['order_date'].dt.strftime('%Y-%m')\n",
    "monthly_sales = monthly_revenue.groupby('year_month').agg(\n",
    "    total_revenue=('total_amount', 'sum'),\n",
    "    order_count=('order_id', 'nunique'),\n",
    "    avg_order_value=('total_amount', 'mean')\n",
    ").reset_index()"
   ],
   "id": "909d3d5fa43565d"
  },
  {
   "metadata": {},
   "cell_type": "code",
   "outputs": [],
   "execution_count": null,
   "source": [
    "# Sorting by date\n",
    "monthly_sales['year_month'] = pd.to_datetime(monthly_sales['year_month'] + '-01')\n",
    "monthly_sales = monthly_sales.sort_values('year_month')\n",
    "monthly_sales['year_month'] = monthly_sales['year_month'].dt.strftime('%Y-%m')"
   ],
   "id": "6a6f27fd6408a4b0"
  },
  {
   "metadata": {
    "ExecuteTime": {
     "end_time": "2025-04-06T02:42:31.177039Z",
     "start_time": "2025-04-06T02:42:31.091413Z"
    }
   },
   "cell_type": "code",
   "source": [
    "# Plot monthly sales trends\n",
    "plt.figure(figsize=(14, 6))\n",
    "plt.plot(monthly_sales['year_month'], monthly_sales['total_revenue'], marker='o', linewidth=2)\n",
    "plt.title('Monthly Revenue Trend', fontsize=16)\n",
    "plt.xlabel('Month', fontsize=12)\n",
    "plt.ylabel('Revenue', fontsize=12)\n",
    "plt.xticks(rotation=45)\n",
    "plt.grid(True, alpha=0.3)\n",
    "plt.tight_layout()\n",
    "plt.savefig('monthly_revenue_trend.png')\n",
    "plt.close()"
   ],
   "id": "c8176b1a3f14b2f3",
   "outputs": [
    {
     "ename": "NameError",
     "evalue": "name 'monthly_sales' is not defined",
     "output_type": "error",
     "traceback": [
      "\u001B[31m---------------------------------------------------------------------------\u001B[39m",
      "\u001B[31mNameError\u001B[39m                                 Traceback (most recent call last)",
      "\u001B[36mCell\u001B[39m\u001B[36m \u001B[39m\u001B[32mIn[6]\u001B[39m\u001B[32m, line 3\u001B[39m\n\u001B[32m      1\u001B[39m \u001B[38;5;66;03m# Plot monthly sales trends\u001B[39;00m\n\u001B[32m      2\u001B[39m plt.figure(figsize=(\u001B[32m14\u001B[39m, \u001B[32m6\u001B[39m))\n\u001B[32m----> \u001B[39m\u001B[32m3\u001B[39m plt.plot(\u001B[43mmonthly_sales\u001B[49m[\u001B[33m'\u001B[39m\u001B[33myear_month\u001B[39m\u001B[33m'\u001B[39m], monthly_sales[\u001B[33m'\u001B[39m\u001B[33mtotal_revenue\u001B[39m\u001B[33m'\u001B[39m], marker=\u001B[33m'\u001B[39m\u001B[33mo\u001B[39m\u001B[33m'\u001B[39m, linewidth=\u001B[32m2\u001B[39m)\n\u001B[32m      4\u001B[39m plt.title(\u001B[33m'\u001B[39m\u001B[33mMonthly Revenue Trend\u001B[39m\u001B[33m'\u001B[39m, fontsize=\u001B[32m16\u001B[39m)\n\u001B[32m      5\u001B[39m plt.xlabel(\u001B[33m'\u001B[39m\u001B[33mMonth\u001B[39m\u001B[33m'\u001B[39m, fontsize=\u001B[32m12\u001B[39m)\n",
      "\u001B[31mNameError\u001B[39m: name 'monthly_sales' is not defined"
     ]
    },
    {
     "data": {
      "text/plain": [
       "<Figure size 1400x600 with 0 Axes>"
      ]
     },
     "metadata": {},
     "output_type": "display_data"
    }
   ],
   "execution_count": 6
  },
  {
   "metadata": {},
   "cell_type": "markdown",
   "source": "#### 3.2 Average Ticket Size Analysis",
   "id": "c56967dd50345d43"
  },
  {
   "metadata": {},
   "cell_type": "code",
   "outputs": [],
   "execution_count": null,
   "source": [
    "# Calculate average ticket size by customer segment\n",
    "avg_ticket_by_country = orders_with_customers.groupby('country').agg(\n",
    "    avg_ticket=('total_amount', 'mean'),\n",
    "    order_count=('order_id', 'count'),\n",
    "    total_revenue=('total_amount', 'sum')\n",
    ").reset_index().sort_values('avg_ticket', ascending=False)"
   ],
   "id": "de06386f3e3e7266"
  },
  {
   "metadata": {},
   "cell_type": "code",
   "outputs": [],
   "execution_count": null,
   "source": [
    "# Plot top 10 countries by average ticket\n",
    "top_countries = avg_ticket_by_country.nlargest(10, 'avg_ticket')\n",
    "plt.figure(figsize=(12, 6))\n",
    "sns.barplot(x='country', y='avg_ticket', data=top_countries)\n",
    "plt.title('Top 10 Countries by Average Ticket Size', fontsize=16)\n",
    "plt.xlabel('Country', fontsize=12)\n",
    "plt.ylabel('Average Ticket ($)', fontsize=12)\n",
    "plt.xticks(rotation=45)\n",
    "plt.tight_layout()\n",
    "plt.savefig('top_countries_avg_ticket.png')\n",
    "plt.close()"
   ],
   "id": "7ee2ab00bdb3ba70"
  },
  {
   "metadata": {},
   "cell_type": "code",
   "outputs": [],
   "execution_count": null,
   "source": [
    "# Calculate average items per order\n",
    "avg_items_per_order = orders_with_details['unique_products'].mean()\n",
    "print(f\"\\nAverage unique products per order: {avg_items_per_order:.2f}\")"
   ],
   "id": "6da2509230c36005"
  },
  {
   "metadata": {},
   "cell_type": "markdown",
   "source": [
    "### 4. Analysis Part 2: Customer Behavior and Churn Risk\n",
    "\n",
    "#### 4.1 Customer Frequency and Recency Analysis"
   ],
   "id": "c63e46d0953dae42"
  },
  {
   "metadata": {},
   "cell_type": "code",
   "outputs": [],
   "execution_count": null,
   "source": [
    "# Calculate frequency and recency for each customer\n",
    "customer_frequency = orders.groupby('customer_id').agg(\n",
    "    order_count=('order_id', 'nunique'),\n",
    "    last_order_date=('order_date', 'max'),\n",
    "    first_order_date=('order_date', 'min')\n",
    ").reset_index()"
   ],
   "id": "88ed2a04bf631bc6"
  },
  {
   "metadata": {},
   "cell_type": "code",
   "outputs": [],
   "execution_count": null,
   "source": [
    "# Calculate recency (days since last order)\n",
    "max_date = orders['order_date'].max()\n",
    "customer_frequency['recency_days'] = (max_date - customer_frequency['last_order_date']).dt.days\n",
    "customer_frequency['customer_tenure_days'] = (customer_frequency['last_order_date'] - customer_frequency['first_order_date']).dt.days\n"
   ],
   "id": "85ab4c28426192cc"
  },
  {
   "metadata": {},
   "cell_type": "code",
   "outputs": [],
   "execution_count": null,
   "source": [
    "# Merge with customer info\n",
    "customer_analysis = pd.merge(\n",
    "    customer_frequency,\n",
    "    customers[['customer_id', 'company_name', 'country']],\n",
    "    on='customer_id',\n",
    "    how='left'\n",
    ")"
   ],
   "id": "213ae3c569e3859a"
  },
  {
   "metadata": {},
   "cell_type": "code",
   "outputs": [],
   "execution_count": null,
   "source": [
    "# Define churn risk (customers with no orders in the last 90 days)\n",
    "customer_analysis['churn_risk'] = customer_analysis['recency_days'] > 90\n",
    "\n",
    "# Calculate churn rate\n",
    "churn_rate = customer_analysis['churn_risk'].mean() * 100\n",
    "print(f\"\\nCustomer churn risk rate: {churn_rate:.2f}%\")"
   ],
   "id": "4d609e00a4581d8e"
  },
  {
   "metadata": {},
   "cell_type": "code",
   "outputs": [],
   "execution_count": null,
   "source": [
    "# Calculate average order value by customer\n",
    "customer_order_value = pd.merge(\n",
    "    orders_with_details.groupby('customer_id').agg(\n",
    "        avg_order_value=('total_amount', 'mean'),\n",
    "        total_spent=('total_amount', 'sum')\n",
    "    ).reset_index(),\n",
    "    customer_analysis[['customer_id', 'order_count', 'recency_days', 'churn_risk']],\n",
    "    on='customer_id',\n",
    "    how='left'\n",
    ")"
   ],
   "id": "613bfd977f4e1577"
  },
  {
   "metadata": {},
   "cell_type": "code",
   "outputs": [],
   "execution_count": null,
   "source": [
    "# Identify high-value customers at risk of churning\n",
    "high_value_churn = customer_order_value[\n",
    "    (customer_order_value['avg_order_value'] > customer_order_value['avg_order_value'].median()) &\n",
    "    (customer_order_value['churn_risk'])\n",
    "].sort_values('total_spent', ascending=False)\n",
    "\n",
    "print(f\"\\nHigh-value customers at risk of churning: {len(high_value_churn)}\")"
   ],
   "id": "263f1262e2981f15"
  },
  {
   "metadata": {},
   "cell_type": "markdown",
   "source": [
    "### 5. Analysis Part 3: Product Performance\n",
    "\n",
    "#### 5.1 Top Performing Products"
   ],
   "id": "b48df547a2f3901b"
  },
  {
   "metadata": {},
   "cell_type": "code",
   "outputs": [],
   "execution_count": null,
   "source": [
    "# Analyze product performance\n",
    "product_performance = pd.merge(\n",
    "    order_details.groupby('product_id').agg(\n",
    "        total_revenue=('order_value', 'sum'),\n",
    "        order_count=('order_id', 'nunique'),\n",
    "        total_quantity=('quantity', 'sum')\n",
    "    ).reset_index(),\n",
    "    products[['product_id', 'product_name', 'category_id', 'unit_price']],\n",
    "    on='product_id',\n",
    "    how='left'\n",
    ")"
   ],
   "id": "61c8bb3d1ccfd641"
  },
  {
   "metadata": {},
   "cell_type": "code",
   "outputs": [],
   "execution_count": null,
   "source": [
    "# Add category names\n",
    "product_performance = pd.merge(\n",
    "    product_performance,\n",
    "    categories[['category_id', 'category_name']],\n",
    "    on='category_id',\n",
    "    how='left'\n",
    ")"
   ],
   "id": "7da586c62f078d87"
  },
  {
   "metadata": {},
   "cell_type": "code",
   "outputs": [],
   "execution_count": null,
   "source": [
    "\n",
    "\n",
    "# Sort by revenue\n",
    "product_performance = product_performance.sort_values('total_revenue', ascending=False)\n",
    "\n",
    "# Top 10 products by revenue\n",
    "top_products = product_performance.head(10)\n",
    "print(\"\\nTop 10 Products by Revenue:\")\n",
    "print(top_products[['product_name', 'total_revenue', 'order_count', 'total_quantity']])\n"
   ],
   "id": "fca47800c3511da5"
  },
  {
   "metadata": {},
   "cell_type": "code",
   "outputs": [],
   "execution_count": null,
   "source": [
    "# Product category analysis\n",
    "category_performance = product_performance.groupby('category_name').agg(\n",
    "    total_revenue=('total_revenue', 'sum'),\n",
    "    product_count=('product_id', 'nunique'),\n",
    "    avg_price=('unit_price', 'mean')\n",
    ").reset_index().sort_values('total_revenue', ascending=False)"
   ],
   "id": "1be83f0951bf98d8"
  },
  {
   "metadata": {},
   "cell_type": "code",
   "outputs": [],
   "execution_count": null,
   "source": [
    "# Plot category performance\n",
    "plt.figure(figsize=(12, 6))\n",
    "sns.barplot(x='category_name', y='total_revenue', data=category_performance)\n",
    "plt.title('Revenue by Product Category', fontsize=16)\n",
    "plt.xlabel('Category', fontsize=12)\n",
    "plt.ylabel('Total Revenue ($)', fontsize=12)\n",
    "plt.xticks(rotation=45)\n",
    "plt.tight_layout()\n",
    "plt.savefig('category_revenue.png')\n",
    "plt.close()"
   ],
   "id": "f961eb84343c4469"
  },
  {
   "metadata": {},
   "cell_type": "markdown",
   "source": [
    "### 6. Cross-Selling and Basket Analysis\n",
    "\n",
    "#### 6.1 Identify products frequently purchased together"
   ],
   "id": "39c8fa18772d2377"
  },
  {
   "metadata": {},
   "cell_type": "code",
   "outputs": [],
   "execution_count": null,
   "source": [
    "\n",
    "# First, get all order-product combinations\n",
    "order_products = order_details[['order_id', 'product_id']].copy()\n",
    "order_products = pd.merge(\n",
    "    order_products,\n",
    "    products[['product_id', 'product_name']],\n",
    "    on='product_id',\n",
    "    how='left'\n",
    ")"
   ],
   "id": "46c1f973d83af703"
  },
  {
   "metadata": {},
   "cell_type": "code",
   "outputs": [],
   "execution_count": null,
   "source": [
    "# Create a product pairs table\n",
    "def get_product_pairs(order_id):\n",
    "    prods = order_products[order_products['order_id'] == order_id]['product_name'].tolist()\n",
    "    pairs = []\n",
    "    for i in range(len(prods)):\n",
    "        for j in range(i+1, len(prods)):\n",
    "            # Ensure alphabetical sorting for consistent pairs\n",
    "            if prods[i] < prods[j]:\n",
    "                pairs.append((prods[i], prods[j]))\n",
    "            else:\n",
    "                pairs.append((prods[j], prods[i]))\n",
    "    return pairs"
   ],
   "id": "cb7b26ec49361421"
  },
  {
   "metadata": {},
   "cell_type": "code",
   "outputs": [],
   "execution_count": null,
   "source": [
    "# Get orders with multiple products\n",
    "orders_with_multiple = orders_with_details[orders_with_details['unique_products'] > 1]['order_id'].unique()\n",
    "\n",
    "# For efficiency, limit to a subset of orders for this analysis\n",
    "if len(orders_with_multiple) > 100:\n",
    "    sample_orders = np.random.choice(orders_with_multiple, 100, replace=False)\n",
    "else:\n",
    "    sample_orders = orders_with_multiple"
   ],
   "id": "1a44868a2a8d5164"
  },
  {
   "metadata": {},
   "cell_type": "code",
   "outputs": [],
   "execution_count": null,
   "source": [
    "# Generate all pairs from sample orders\n",
    "all_pairs = []\n",
    "for order_id in sample_orders:\n",
    "    all_pairs.extend(get_product_pairs(order_id))\n",
    "\n",
    "# Count frequencies\n",
    "pair_counts = {}\n",
    "for pair in all_pairs:\n",
    "    if pair in pair_counts:\n",
    "        pair_counts[pair] += 1\n",
    "    else:\n",
    "        pair_counts[pair] = 1\n",
    "\n",
    "# Convert to dataframe and sort\n",
    "pairs_df = pd.DataFrame([(p[0], p[1], c) for p, c in pair_counts.items()],\n",
    "                       columns=['product1', 'product2', 'frequency'])\n",
    "pairs_df = pairs_df.sort_values('frequency', ascending=False)\n",
    "\n",
    "print(\"\\nTop 5 Product Pairs Frequently Purchased Together:\")\n",
    "print(pairs_df.head(5))"
   ],
   "id": "3f74b934a49b8b6c"
  },
  {
   "metadata": {},
   "cell_type": "markdown",
   "source": [
    "### 7. Key Insights and Recommendations\n",
    "\n",
    "#### 7.1 Average Ticket Size Enhancement"
   ],
   "id": "68e9ac644e4e25cf"
  },
  {
   "metadata": {},
   "cell_type": "code",
   "outputs": [],
   "execution_count": null,
   "source": [
    "# Analyze impact of product variety on order value\n",
    "order_details_with_info = pd.merge(\n",
    "    order_details,\n",
    "    products[['product_id', 'product_name', 'category_id']],\n",
    "    on='product_id',\n",
    "    how='left'\n",
    ")\n",
    "\n",
    "order_details_with_info = pd.merge(\n",
    "    order_details_with_info,\n",
    "    categories[['category_id', 'category_name']],\n",
    "    on='category_id',\n",
    "    how='left'\n",
    ")"
   ],
   "id": "d2b4704db0e7236a"
  },
  {
   "metadata": {},
   "cell_type": "code",
   "outputs": [],
   "execution_count": null,
   "source": [
    "# Calculate product and category diversity per order\n",
    "order_diversity = order_details_with_info.groupby('order_id').agg(\n",
    "    product_count=('product_id', 'nunique'),\n",
    "    category_count=('category_id', 'nunique'),\n",
    "    order_value=('order_value', 'sum')\n",
    ").reset_index()\n",
    "\n",
    "# Analyze relationship between product diversity and order value\n",
    "plt.figure(figsize=(10, 6))\n",
    "sns.scatterplot(x='product_count', y='order_value', data=order_diversity)\n",
    "plt.title('Relationship Between Product Diversity and Order Value', fontsize=16)\n",
    "plt.xlabel('Number of Unique Products in Order', fontsize=12)\n",
    "plt.ylabel('Total Order Value ($)', fontsize=12)\n",
    "plt.grid(True, alpha=0.3)\n",
    "plt.tight_layout()\n",
    "plt.savefig('product_diversity_order_value.png')\n",
    "plt.close()"
   ],
   "id": "9ac47de59ca7ed8"
  },
  {
   "metadata": {},
   "cell_type": "code",
   "outputs": [],
   "execution_count": null,
   "source": [
    "# Calculate correlation\n",
    "correlation = order_diversity['product_count'].corr(order_diversity['order_value'])\n",
    "print(f\"\\nCorrelation between product count and order value: {correlation:.4f}\")"
   ],
   "id": "93f2404432e6d7b2"
  },
  {
   "metadata": {},
   "cell_type": "markdown",
   "source": "#### 7.2 Churn Reduction Strategies",
   "id": "90bee63029236c2e"
  },
  {
   "metadata": {},
   "cell_type": "code",
   "outputs": [],
   "execution_count": null,
   "source": [
    "# Identify patterns in customer behavior before churn\n",
    "# First, calculate time between orders for each customer\n",
    "customer_orders = orders[['customer_id', 'order_id', 'order_date']].sort_values(['customer_id', 'order_date'])\n",
    "customer_orders['prev_order_date'] = customer_orders.groupby('customer_id')['order_date'].shift(1)\n",
    "customer_orders['days_since_prev_order'] = (customer_orders['order_date'] - customer_orders['prev_order_date']).dt.days"
   ],
   "id": "cfc2ca0964bdac22"
  },
  {
   "metadata": {},
   "cell_type": "code",
   "outputs": [],
   "execution_count": null,
   "source": [
    "# Filter out first orders (where prev_order_date is NaN)\n",
    "customer_orders = customer_orders.dropna(subset=['prev_order_date'])\n",
    "\n",
    "# Compare active vs churned customers\n",
    "active_customers = customer_analysis[~customer_analysis['churn_risk']]['customer_id'].tolist()\n",
    "churned_customers = customer_analysis[customer_analysis['churn_risk']]['customer_id'].tolist()\n",
    "\n",
    "active_order_gaps = customer_orders[customer_orders['customer_id'].isin(active_customers)]['days_since_prev_order']\n",
    "churned_order_gaps = customer_orders[customer_orders['customer_id'].isin(churned_customers)]['days_since_prev_order']"
   ],
   "id": "df80df5a43febcdc"
  },
  {
   "metadata": {},
   "cell_type": "code",
   "outputs": [],
   "execution_count": null,
   "source": [
    "# Calculate average time between orders\n",
    "if len(active_order_gaps) > 0 and len(churned_order_gaps) > 0:\n",
    "    print(f\"\\nAvg days between orders (active customers): {active_order_gaps.mean():.2f}\")\n",
    "    print(f\"Avg days between orders (churned customers): {churned_order_gaps.mean():.2f}\")"
   ],
   "id": "b65829789223431"
  },
  {
   "metadata": {},
   "cell_type": "markdown",
   "source": "### 8. Executive Summary",
   "id": "902520268568556"
  },
  {
   "metadata": {},
   "cell_type": "code",
   "outputs": [],
   "execution_count": null,
   "source": [
    "# Calculate key metrics for executive summary\n",
    "total_revenue = orders_with_details['total_amount'].sum()\n",
    "total_orders = len(orders_with_details)\n",
    "avg_order_value = total_revenue / total_orders if total_orders > 0 else 0\n",
    "total_customers = len(customers)\n",
    "repeat_customers = customer_analysis[customer_analysis['order_count'] > 1].shape[0]\n",
    "repeat_rate = repeat_customers / total_customers * 100\n",
    "\n",
    "print(\"\\n*** EXECUTIVE SUMMARY ***\")\n",
    "print(f\"Total Revenue: ${total_revenue:,.2f}\")\n",
    "print(f\"Total Orders: {total_orders}\")\n",
    "print(f\"Average Order Value: ${avg_order_value:,.2f}\")\n",
    "print(f\"Total Customers: {total_customers}\")\n",
    "print(f\"Repeat Purchase Rate: {repeat_rate:.2f}%\")\n",
    "print(f\"Customer Churn Risk Rate: {churn_rate:.2f}%\")"
   ],
   "id": "be8e3155dde75daa"
  },
  {
   "metadata": {},
   "cell_type": "code",
   "outputs": [],
   "execution_count": null,
   "source": [
    "# Create recommendations based on analysis\n",
    "print(\"\\n*** KEY RECOMMENDATIONS ***\")\n",
    "print(\"1. Implement cross-selling strategies for top product pairs to increase average ticket size\")\n",
    "print(\"2. Develop a customer retention program targeting high-value customers with high churn risk\")\n",
    "print(\"3. Expand product categories with highest average order values to improve overall revenue\")\n",
    "print(\"4. Create a loyalty program to reduce time between orders for customers showing signs of disengagement\")\n",
    "print(\"5. Implement personalized marketing campaigns based on purchase history and category preferences\")"
   ],
   "id": "375a6ff60793c1d2"
  },
  {
   "metadata": {},
   "cell_type": "markdown",
   "source": "### 9. Data Visualization Dashboard Preparation",
   "id": "1bff2f74a7a1e940"
  },
  {
   "metadata": {},
   "cell_type": "code",
   "outputs": [],
   "execution_count": null,
   "source": [
    "# Prepare data for dashboard visualizations\n",
    "# Monthly sales trend\n",
    "monthly_trend = orders.copy()\n",
    "monthly_trend['year_month'] = monthly_trend['order_date'].dt.strftime('%Y-%m')\n",
    "monthly_trend = pd.merge(\n",
    "    monthly_trend,\n",
    "    order_details.groupby('order_id')['order_value'].sum().reset_index(),\n",
    "    on='order_id',\n",
    "    how='left'\n",
    ")\n",
    "\n",
    "monthly_summary = monthly_trend.groupby('year_month').agg(\n",
    "    total_revenue=('order_value', 'sum'),\n",
    "    order_count=('order_id', 'nunique'),\n",
    "    customer_count=('customer_id', 'nunique')\n",
    ").reset_index()"
   ],
   "id": "c5e8913a15a6b571"
  },
  {
   "metadata": {},
   "cell_type": "code",
   "outputs": [],
   "execution_count": null,
   "source": [
    "# Save processed data for potential dashboard use\n",
    "monthly_summary.to_csv('monthly_sales_summary.csv', index=False)\n",
    "category_performance.to_csv('category_performance.csv', index=False)\n",
    "top_products.to_csv('top_products.csv', index=False)\n",
    "high_value_churn.to_csv('high_value_churn_risk.csv', index=False)"
   ],
   "id": "41becec467c8a600"
  },
  {
   "metadata": {},
   "cell_type": "code",
   "outputs": [],
   "execution_count": null,
   "source": [
    "# Calculate customer segmentation for targeting\n",
    "customer_segments = customer_order_value.copy()\n",
    "customer_segments['recency_segment'] = pd.qcut(customer_segments['recency_days'], 3, labels=['Recent', 'Moderate', 'Distant'])\n",
    "customer_segments['frequency_segment'] = pd.qcut(customer_segments['order_count'], 3, labels=['Low', 'Medium', 'High'])\n",
    "customer_segments['monetary_segment'] = pd.qcut(customer_segments['total_spent'], 3, labels=['Low', 'Medium', 'High'])\n"
   ],
   "id": "7e2d69ce19655c44"
  },
  {
   "metadata": {},
   "cell_type": "code",
   "outputs": [],
   "execution_count": null,
   "source": [
    "# Combine into RFM score\n",
    "segment_map = {'Low': 0, 'Medium': 1, 'High': 2, 'Recent': 2, 'Moderate': 1, 'Distant': 0}\n",
    "customer_segments['recency_score'] = customer_segments['recency_segment'].map(segment_map)\n",
    "customer_segments['frequency_score'] = customer_segments['frequency_segment'].map(segment_map)\n",
    "customer_segments['monetary_score'] = customer_segments['monetary_segment'].map(segment_map)\n",
    "customer_segments['rfm_score'] = customer_segments['recency_score'] + customer_segments['frequency_score'] + customer_segments['monetary_score']"
   ],
   "id": "dff02230de585db6"
  },
  {
   "metadata": {},
   "cell_type": "code",
   "outputs": [],
   "execution_count": null,
   "source": [
    "# Identify VIP customers and at-risk high-value customers\n",
    "customer_segments['segment'] = pd.cut(\n",
    "    customer_segments['rfm_score'],\n",
    "    bins=[0, 2, 4, 6],\n",
    "    labels=['Low Value', 'Medium Value', 'High Value']\n",
    ")\n",
    "\n",
    "print(\"\\n*** CUSTOMER SEGMENTATION ***\")\n",
    "print(customer_segments['segment'].value_counts())"
   ],
   "id": "d78da835154f729c"
  },
  {
   "metadata": {},
   "cell_type": "code",
   "outputs": [],
   "execution_count": null,
   "source": [
    "# Save for reporting\n",
    "customer_segments.to_csv('customer_segments.csv', index=False)"
   ],
   "id": "9e24efd496aa8d95"
  },
  {
   "metadata": {},
   "cell_type": "markdown",
   "source": "### 10. Financial Impact Projections",
   "id": "d03022e5127debc"
  },
  {
   "metadata": {},
   "cell_type": "code",
   "outputs": [],
   "execution_count": null,
   "source": [
    "\n",
    "\n",
    "# Estimate financial impact of recommendations\n",
    "# 1. Cross-selling impact\n",
    "avg_order_value_current = avg_order_value\n",
    "potential_increase_pct = 0.15  # Estimated 15% increase from cross-selling\n",
    "potential_avg_order = avg_order_value_current * (1 + potential_increase_pct)\n",
    "annual_orders_estimate = total_orders * (12 / len(monthly_summary))  # Estimate annual orders\n",
    "potential_revenue_gain = (potential_avg_order - avg_order_value_current) * annual_orders_estimate\n"
   ],
   "id": "4034dea763f5603f"
  },
  {
   "metadata": {},
   "cell_type": "code",
   "outputs": [],
   "execution_count": null,
   "source": [
    "\n",
    "# 2. Churn reduction impact\n",
    "high_value_churned = high_value_churn.shape[0]\n",
    "avg_high_value_spend = high_value_churn['total_spent'].mean()\n",
    "churn_recovery_rate = 0.3  # Assume we can recover 30% of high-value churned customers\n",
    "potential_churn_recovery = high_value_churned * churn_recovery_rate * avg_high_value_spend\n"
   ],
   "id": "8ff5412ad688bc3b"
  },
  {
   "metadata": {},
   "cell_type": "code",
   "outputs": [],
   "execution_count": null,
   "source": [
    "\n",
    "# Total potential financial impact\n",
    "total_potential_impact = potential_revenue_gain + potential_churn_recovery\n",
    "\n",
    "print(\"\\n*** FINANCIAL IMPACT PROJECTIONS ***\")\n",
    "print(f\"Potential Annual Revenue Gain from Cross-selling: ${potential_revenue_gain:,.2f}\")\n",
    "print(f\"Potential Revenue Recovery from Churn Reduction: ${potential_churn_recovery:,.2f}\")\n",
    "print(f\"Total Potential Financial Impact: ${total_potential_impact:,.2f}\")"
   ],
   "id": "ad5fc9247747e5ff"
  },
  {
   "metadata": {},
   "cell_type": "markdown",
   "source": "### 11. Implementation Roadmap",
   "id": "4080229071eab8ac"
  },
  {
   "metadata": {},
   "cell_type": "code",
   "outputs": [],
   "execution_count": null,
   "source": [
    "print(\"\\n*** IMPLEMENTATION ROADMAP ***\")\n",
    "print(\"Phase 1 (Month 1-2): Data Integration and Dashboard Setup\")\n",
    "print(\"- Connect all data sources (ERP, Salesforce, ContaAzul)\")\n",
    "print(\"- Implement automated data pipelines\")\n",
    "print(\"- Create executive and operational dashboards\")\n",
    "print(\"\\nPhase 2 (Month 3-4): Customer Retention Program\")\n",
    "print(\"- Implement churn prediction model\")\n",
    "print(\"- Develop targeted retention campaigns for high-risk customers\")\n",
    "print(\"- Launch customer loyalty program\")\n",
    "print(\"\\nPhase 3 (Month 5-6): Revenue Optimization\")\n",
    "print(\"- Implement cross-selling recommendations in ordering system\")\n",
    "print(\"- Optimize product mix based on margin analysis\")\n",
    "print(\"- Personalize customer communications based on purchase history\")\n",
    "print(\"\\nPhase 4 (Month 7-8): Advanced Analytics\")\n",
    "print(\"- Implement predictive analytics for demand forecasting\")\n",
    "print(\"- Develop customer lifetime value projections\")\n",
    "print(\"- Create automated anomaly detection for business metrics\")"
   ],
   "id": "b9c49d94ed6214a2"
  }
 ],
 "metadata": {
  "kernelspec": {
   "display_name": "Python 3",
   "language": "python",
   "name": "python3"
  },
  "language_info": {
   "codemirror_mode": {
    "name": "ipython",
    "version": 2
   },
   "file_extension": ".py",
   "mimetype": "text/x-python",
   "name": "python",
   "nbconvert_exporter": "python",
   "pygments_lexer": "ipython2",
   "version": "2.7.6"
  }
 },
 "nbformat": 4,
 "nbformat_minor": 5
}
